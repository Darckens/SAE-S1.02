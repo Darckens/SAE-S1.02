{
 "cells": [
  {
   "cell_type": "markdown",
   "id": "e4a8385c-b836-454b-b58c-ff1fa99ae528",
   "metadata": {},
   "source": [
    "# <span style=\"color:red\"><strong>Situation d' apprentissage et d'évaluation S1.02</strong></span>\n",
    "<i>Lecture et écriture de fichiers</i></br>\n",
    "<i>STID  BUT 1 - IUT de Villetaneuse - 2024/2025</i></br>\n",
    "<i>Mercredi 18 décembre 2024</i>"
   ]
  },
  {
   "cell_type": "markdown",
   "id": "df7adf49-f106-4652-b85f-f5648f41622c",
   "metadata": {
    "tags": []
   },
   "source": [
    "## <span style=\"color:orange\"><strong>Rendus</strong></span>"
   ]
  },
  {
   "cell_type": "markdown",
   "id": "beb9e8aa-f089-40c6-95d6-02a077f2a2db",
   "metadata": {},
   "source": [
    "**ATTENTION:**\n",
    "Ce fichier complété doit être téléversé sur le moodle avant le Mercredi 18 décembre à 16h00."
   ]
  },
  {
   "cell_type": "markdown",
   "id": "6ec4620c-d403-4008-a72e-4045394bb5d3",
   "metadata": {},
   "source": [
    "**ATTENTION:**\n",
    "Afin de garantir l'anonymisation de la correction, aucune information dans le notebook ne doit permettre l'identification des personnes qui ont contribuées au rendu."
   ]
  },
  {
   "cell_type": "markdown",
   "id": "f6a842d0-2c20-4a90-923a-98f5b8ec498b",
   "metadata": {},
   "source": [
    "**ATTENTION:**\n",
    "Le nom du fichier doit être inchangé."
   ]
  },
  {
   "cell_type": "markdown",
   "id": "43d3735e-52d9-471b-9e21-01320e8b5b14",
   "metadata": {},
   "source": [
    "**ATTENTION:**\n",
    "Le code doit être commenté."
   ]
  },
  {
   "cell_type": "markdown",
   "id": "cfe2beb6-1df1-4ec3-938a-b3a83acfefde",
   "metadata": {
    "tags": []
   },
   "source": [
    "## <span style=\"color:orange\"><strong>Contexte et données de la mission</strong></span>"
   ]
  },
  {
   "cell_type": "markdown",
   "id": "afe22e4b-9928-4f6c-a49e-459bfaa49d7c",
   "metadata": {},
   "source": [
    "Le service marketing souhaite :\n",
    "1. consolider les informations de contact de tous les clients référencés dans la base de données,\n",
    "2. obtenir des statistiques sur la répartition géographique des clients."
   ]
  },
  {
   "cell_type": "markdown",
   "id": "704bfed1-4e92-4801-b6ab-908debc029d8",
   "metadata": {},
   "source": [
    "Le service informatique a procédé à une extraction des informations disponibles pour chaque client. Ces informations ont été collectées dans un répertoire nommé `extraction_fiches_clients` qui a été compressé et mis à votre disposition sur le moodle dans le fichier archive `extraction_fiches_clients.tgz`."
   ]
  },
  {
   "cell_type": "markdown",
   "id": "d22dd629-85ad-442e-908c-1b6eff4be1cd",
   "metadata": {},
   "source": [
    "Ce répertoire contient 357 fichiers correspondant aux 357 clients référencés dans la base. Chaque fichier porte le numero du client."
   ]
  },
  {
   "cell_type": "markdown",
   "id": "5ed49685-f911-4357-a197-f90b59d22293",
   "metadata": {},
   "source": [
    "Tous ces fichiers contiennent les mêmes informations et sont structurés de la même façon."
   ]
  },
  {
   "cell_type": "markdown",
   "id": "dd9f8c0f-3e95-49fd-a239-6565edf1fdfe",
   "metadata": {},
   "source": [
    "Trois tâches vous sont assignées:\n",
    "- **Tâche 1 :** Regrouper toutes les informations client dans un fichier tabulaire unique au format CSV (le séparateur utilisé sera le point-virgule) pour faciliter les traitements ultérieurs.\n",
    "- **Tâche 2 :** Produire un fichier contenant les adresses mail de tous les clients pour lesquels aucun numéro de téléphone n'est renseigné (afin de pouvoir les contacter et leur demander de mettre à jour leurs informations de contact).\n",
    "- **Tâche 3 :** Produire un fichier unique contenant les statistiques de répartition géographique des clients par région."
   ]
  },
  {
   "cell_type": "markdown",
   "id": "518b7439-2064-4c60-bbed-80ff81148c81",
   "metadata": {},
   "source": [
    "## <span style=\"color:orange\"><strong>Livrables</strong></span>"
   ]
  },
  {
   "cell_type": "markdown",
   "id": "42e25f6a-efab-4925-a589-99d4b32336e6",
   "metadata": {},
   "source": [
    "### <span style=\"color:Magenta\"><strong>Tâche 1 :</string></span>"
   ]
  },
  {
   "cell_type": "markdown",
   "id": "2064cfde-be4a-4f91-917a-5449f34505b3",
   "metadata": {
    "tags": []
   },
   "source": [
    "#### <span style=\"color:blue\"><strong>Spécifications</string></span>"
   ]
  },
  {
   "cell_type": "markdown",
   "id": "a7280bf5-9e14-4573-84ff-f7daf5de5ac4",
   "metadata": {},
   "source": [
    "Le fichier produit devra s'appeler `base_clients.csv`."
   ]
  },
  {
   "cell_type": "markdown",
   "id": "51928c8b-51ee-4d62-bde5-1f23fe01d29e",
   "metadata": {},
   "source": [
    "Le fichier CSV devra contenir :\n",
    "- 1 ligne d'entête contenant le nom des colonnes, puis\n",
    "- 357 lignes contenant les informations extraites des 357 fiches client."
   ]
  },
  {
   "cell_type": "markdown",
   "id": "f7681d64-d1ca-4229-bb7a-9bf00c63b567",
   "metadata": {},
   "source": [
    "Chaque ligne du fichier correspondra donc à un client différent. Les informations devront êtes structurées dans l'ordre suivant :\n",
    "- **colonne 1 :** NUMERO_CLIENT : identifiant commercial du contrat client,\n",
    "- **colonne 2 :** DATE_CONTRAT : la date de souscription du contrat,\n",
    "- **colonne 3 :** DEPARTEMENT : le département dans lequel est localisé le client.\n",
    "- **colonne 4 :** CIVILITE : le genre de la personne s'il est renseigné. Les valeurs possibles sont : M. si c'est un homme, Mme si c'est une femme.\n",
    "- **colonne 5 :** NOM : le nom de famille de la personne.\n",
    "- **colonne 6 :** PRENOM : le prénom de la personne.\n",
    "- **colonne 7 :** DATE_NAISSANCE : la date de naissance de la personne.\n",
    "- **colonne 8 :** TELEPHONE_FIXE : son numéro de téléphone principal,\n",
    "- **colonne 9 :** TELEPHONE_MOBILE : son numéro de téléphone mobile,\n",
    "- **colonne 10 :** EMAIL : son adresse de courriel de contact,\n",
    "- **colonne 11 :** NUMERO_VOIE : le numéro de la voie de son adresse de facturation,\n",
    "- **colonne 12 :** NOM_VOIE : le nom de la voie de son adresse de facturation,\n",
    "- **colonne 13 :** CODE_POSTAL : le code postal de son adresse de facturation,\n",
    "- **colonne 14 :** COMMUNE : le nom de la commune de son adresse de facturation,"
   ]
  },
  {
   "cell_type": "markdown",
   "id": "fb59dafe-8898-4623-8576-7b0effae5c20",
   "metadata": {},
   "source": [
    "**Attention:** Si une information est manquante dans la fiche client (par exemple un numéro de téléphone absent), la valeur dans la colonne correspondante doit être la chaîne de caractères `\"null\"`."
   ]
  },
  {
   "cell_type": "markdown",
   "id": "f5c0563e-b672-41a9-8572-5da6af110064",
   "metadata": {},
   "source": [
    "**Conseil 1:** Essayez d'abord de traiter une seule fiche client. Une fois que vous saurez faire l'opération sur une seule fiche ce sera plus simple de le faire sur toutes les fiches."
   ]
  },
  {
   "cell_type": "markdown",
   "id": "8099affc-b9a0-46da-98b1-70bf1a3dfbe0",
   "metadata": {},
   "source": [
    "**Conseil 2:** Ne cherchez pas à tout extraire dès le début. Commencer par extraire un, puis deux, puis trois champs et ainsi de suite."
   ]
  },
  {
   "cell_type": "markdown",
   "id": "516b46b9-1375-4c16-bced-02a3c5dc7d19",
   "metadata": {},
   "source": [
    "**Conseil 3:** Ne chercher pas a écrire le fichier tout de suite. Commencez d'abord par traiter une ligne et l'afficher, une fois que vous arriverez à afficher la ligne il sera simple de l'écrire dans un fichier au lieu de l'afficher."
   ]
  },
  {
   "cell_type": "markdown",
   "id": "f76b4e72-6c3c-4e38-b99d-9f865ba966d2",
   "metadata": {
    "tags": []
   },
   "source": [
    "#### <span style=\"color:green\"><strong>Implémentation</strong></span>"
   ]
  },
  {
   "cell_type": "markdown",
   "id": "4490b351-98f3-4277-b77e-1632edbb0482",
   "metadata": {},
   "source": [
    "Vous devez écrire le code de cette tâche dans cette section du document."
   ]
  },
  {
   "cell_type": "code",
   "execution_count": null,
   "id": "e8fb4c5a",
   "metadata": {},
   "outputs": [
    {
     "name": "stdout",
     "output_type": "stream",
     "text": [
      "Les résultats ont été enregistrés dans base_clients.csv.\n"
     ]
    }
   ],
   "source": [
    "import os\n",
    "import csv\n",
    "\n",
    "#-------------------------------------------------------------------------------#\n",
    "\n",
    "# Chemin du répertoire\n",
    "repertoire = \"./extraction_fiches_clients/\"\n",
    "\n",
    "# Lister tous les fichiers dans le répertoire\n",
    "fichier = os.listdir( repertoire )\n",
    "\n",
    "# Filtrer les fichiers pour n'inclure que ceux qui semblent être des fichiers de données\n",
    "fichier = [f for f in fichier if os.path.isfile(os.path.join(repertoire, f))]\n",
    "\n",
    "# Nom du fichier de sortie CSV\n",
    "f_out = \"base_clients.csv\"\n",
    "\n",
    "# Ouvrir le fichier CSV pour écrire\n",
    "with open( f_out, mode = 'w', newline = '', encoding = 'utf-8' ) as fichier_csv :\n",
    "    writer = csv.writer( fichier_csv, delimiter = ';' )\n",
    "    \n",
    "    # Écrire l'en-tête du fichier CSV\n",
    "    en_tete = [\n",
    "        \"NUMERO_CLIENT\", \"DATE_CONTRAT\", \"DEPARTEMENT\", \"CIVILITE\", \"NOM\", \"PRENOM\",\n",
    "        \"DATE_NAISSANCE\", \"TELEPHONE_FIXE\", \"TELEPHONE_MOBILE\", \"EMAIL\",\n",
    "        \"NUMERO_VOIE\", \"NOM_VOIE\", \"CODE_POSTAL\", \"COMMUNE\"\n",
    "    ]\n",
    "    writer.writerow(en_tete)\n",
    "\n",
    "    # Parcourir chaque fichier du répertoire\n",
    "    for nom_du_fichier in fichier:\n",
    "        path = os.path.join( repertoire, nom_du_fichier )\n",
    "        \n",
    "        # Ouvrir le fichier\n",
    "        with open( path, \"r\", encoding='utf-8' ) as f_in :\n",
    "            donnees_clients = []\n",
    "            \n",
    "            # Lire le fichier ligne par ligne\n",
    "            li = f_in.readline()\n",
    "            while li != \"\" :\n",
    "                if li[0] != \"-\" :\n",
    "                    data = li.split()\n",
    "                    donnees_clients.append( data )\n",
    "                li = f_in.readline()\n",
    "            \n",
    "            # Remplir dossier_clients selon le traitement de donnees_clients\n",
    "            dossier_clients.append( donnees_clients[0][4] )      # NUMERO_CLIENT\n",
    "            dossier_clients.append( donnees_clients[0][9] )      # DATE_CONTRAT\n",
    "\n",
    "            departement = donnees_clients[4][0]\n",
    "            departement = departement[:2]\n",
    "            dossier_clients.append( departement )                # DEPARTEMENT\n",
    "\n",
    "            dossier_clients.append( donnees_clients[1][2] )      # CIVILITE\n",
    "            dossier_clients.append( donnees_clients[1][3] )      # NOM\n",
    "            \n",
    "            prenom = \" \".join( donnees_clients[1][4:] )\n",
    "            dossier_clients.append( prenom )                     # PRENOM\n",
    "            \n",
    "            dossier_clients.append( donnees_clients[2][2] )      # DATE_NAISSANCE\n",
    "\n",
    "            if len( donnees_clients[5] ) < 4 :\n",
    "                dossier_clients.append( \"null\" )                 # TELEPHONE_FIXE\n",
    "            else :\n",
    "                dossier_clients.append( donnees_clients[5][3] )  # TELEPHONE_FIXE\n",
    "\n",
    "            if len( donnees_clients[6] ) < 4 :\n",
    "                dossier_clients.append( \"null\" )                 # TELEPHONE_MOBILE\n",
    "            else :\n",
    "                dossier_clients.append( donnees_clients[6][3] )  # TELEPHONE_MOBILE\n",
    "            \n",
    "            dossier_clients.append( donnees_clients[7][2] )      # EMAIL\n",
    "            dossier_clients.append( donnees_clients[3][2] )      # NUMERO_VOIE\n",
    "\n",
    "            nom_voie = ' '.join( donnees_clients[3][3:] )        # NOM_VOIE\n",
    "            dossier_clients.append( nom_voie )\n",
    "\n",
    "            dossier_clients.append( donnees_clients[4][0] )      # CODE_POSTAL\n",
    "            \n",
    "            commune = ' '.join( donnees_clients[4][1:] )         # COMMUNE\n",
    "            dossier_clients.append( commune )\n",
    "\n",
    "            # Écrire les données dans le fichier CSV\n",
    "            writer.writerow( dossier_clients )\n",
    "            \n",
    "        f_in.close()\n",
    "    fichier_csv.close()\n",
    "\n",
    "# Vérifie si le fichier \"base_clients.csv\" a été créé avec succès\n",
    "if os.path.exists(\"base_clients.csv\"):\n",
    "    print(f\"Les résultats ont été enregistrés dans {f_out}.\")\n",
    "else:\n",
    "    print(\"Une erreur est survenue lors de la création du fichier.\")"
   ]
  },
  {
   "cell_type": "markdown",
   "id": "d321b0e1-e84e-4975-a27d-c6bcde5e8578",
   "metadata": {},
   "source": [
    "### <span style=\"color:Magenta\"><strong>Tâche 2 :</string></span>"
   ]
  },
  {
   "cell_type": "markdown",
   "id": "77b3a9ff-d255-4a14-a9b9-95324b9d4c01",
   "metadata": {
    "tags": []
   },
   "source": [
    "#### <span style=\"color:blue\"><strong>Spécifications</string></span>"
   ]
  },
  {
   "cell_type": "markdown",
   "id": "5e5abee0-867b-43d7-972a-ab1d5de46197",
   "metadata": {},
   "source": [
    "À partir du fichier `base_clients.csv` produit à la **tâche 1**, produire un fichier `no_phone.txt` contenant les adresses mail de tous les clients pour lesquels aucun numéro de téléphone n'est renseigné."
   ]
  },
  {
   "cell_type": "code",
   "execution_count": 3,
   "id": "d64ed549",
   "metadata": {},
   "outputs": [
    {
     "name": "stdout",
     "output_type": "stream",
     "text": [
      "Le fichier 'no_phone.txt' a été créé avec succès. Les emails des clients sans numéro de téléphone ont été enregistrés.\n"
     ]
    }
   ],
   "source": [
    "f_in = open( \"base_clients.csv\", \"r\" )\n",
    "f_out = open( \"no_phone.txt\", \"w\" )\n",
    "\n",
    "# Ignore l'en-tête du fichier CSV\n",
    "f_in.readline()\n",
    "\n",
    "# Lit la première ligne de données\n",
    "li = f_in.readline()\n",
    "\n",
    "while li != \"\":\n",
    "    # Divise la ligne en colonnes en utilisant le point-virgule comme séparateur\n",
    "    data = li.split(\";\")\n",
    "\n",
    "    # Vérifie si les colonnes 7 et 8 (indices 7 et 8) contiennent \"null\" (aucun numéro de téléphone)\n",
    "    if data[7] == \"null\" and data[8] == \"null\" :\n",
    "        # Écrit l'email (colonne 9, indice 9) dans le fichier de sortie, suivi d'un saut de ligne\n",
    "        f_out.write(data[9] + \"\\n\")\n",
    "    \n",
    "    # Lit la ligne suivante du fichier d'entrée\n",
    "    li = f_in.readline()\n",
    "\n",
    "f_in.close()\n",
    "f_out.close()\n",
    "\n",
    "# Vérifie si le fichier \"no_phone.txt\" a été créé avec succès\n",
    "if os.path.exists( \"no_phone.txt\" ) :\n",
    "    print(\"Le fichier 'no_phone.txt' a été créé avec succès. Les emails des clients sans numéro de téléphone ont été enregistrés.\")\n",
    "else :\n",
    "    print(\"Une erreur est survenue lors de la création du fichier.\")"
   ]
  },
  {
   "cell_type": "markdown",
   "id": "16d323d9-7e53-4a88-ab77-ed332dff3083",
   "metadata": {},
   "source": [
    "Chaque adresse mail devra être sur une ligne différente."
   ]
  },
  {
   "cell_type": "markdown",
   "id": "295ff2e2-80a5-42e8-8057-de148848de99",
   "metadata": {
    "tags": []
   },
   "source": [
    "#### <span style=\"color:green\"><strong>Implémentation</strong></span>"
   ]
  },
  {
   "cell_type": "markdown",
   "id": "936fbee8-8547-47cf-a2ec-19c3622330e2",
   "metadata": {},
   "source": [
    "Vous devez écrire le code de cette tâche dans cette section du document."
   ]
  },
  {
   "cell_type": "markdown",
   "id": "2234283d-d39c-418e-b2b0-77410e2f3ae6",
   "metadata": {},
   "source": [
    "### <span style=\"color:Magenta\"><strong>Tâche 3 :</string></span>"
   ]
  },
  {
   "cell_type": "markdown",
   "id": "c9554720-8029-4104-ace0-6ab183cda95d",
   "metadata": {
    "tags": []
   },
   "source": [
    "#### <span style=\"color:blue\"><strong>Spécifications</string></span>"
   ]
  },
  {
   "cell_type": "markdown",
   "id": "3aaf88b8-26b3-4900-b552-4ce0381d2a46",
   "metadata": {},
   "source": [
    "Pour cette tâche de mise en place d'un rapport d'études statistiques de la répartition par région des clients, *la forme du rapport et le choix du ou des indicateurs est laissé à votre jugement.*\n",
    "\n",
    "Le rapport sera enregistré dans un fichier texte nommé `rapport_stat_repart_geo.txt`."
   ]
  },
  {
   "cell_type": "markdown",
   "id": "da43302b-b20d-4f0c-820b-77c8502374dd",
   "metadata": {
    "tags": []
   },
   "source": [
    "#### <span style=\"color:green\"><strong>Implémentation</strong></span>"
   ]
  },
  {
   "cell_type": "markdown",
   "id": "74e3ad41-f58f-434b-855b-bb8be72a33e8",
   "metadata": {},
   "source": [
    "Vous devez écrire le code de cette tâche dans cette section du document."
   ]
  },
  {
   "cell_type": "code",
   "execution_count": null,
   "id": "4ce203b0",
   "metadata": {},
   "outputs": [
    {
     "name": "stdout",
     "output_type": "stream",
     "text": [
      "\n",
      "Le rapport a été créé sous le nom de 'rapport_stat_repart_geo.txt'.\n"
     ]
    }
   ],
   "source": [
    "import statistics\n",
    "\n",
    "# Dictionnaire des départements par région\n",
    "REGIONS = {\n",
    "    'Auvergne-Rhône-Alpes': ['01', '03', '07', '15', '26', '38', '42', '43', '63', '69', '73', '74'],\n",
    "    'Bourgogne-Franche-Comté': ['21', '25', '39', '58', '70', '71', '89', '90'],\n",
    "    'Bretagne': ['35', '22', '56', '29'],\n",
    "    'Centre-Val de Loire': ['18', '28', '36', '37', '41', '45'],\n",
    "    'Corse': ['2A', '2B'],\n",
    "    'Grand Est': ['08', '10', '51', '52', '54', '55', '57', '67', '68', '88'],\n",
    "    'Guadeloupe': ['971'],\n",
    "    'Guyane': ['973'],\n",
    "    'Hauts-de-France': ['02', '59', '60', '62', '80'],\n",
    "    'Île-de-France': ['75', '77', '78', '91', '92', '93', '94', '95'],\n",
    "    'La Réunion': ['974'],\n",
    "    'Martinique': ['972'],\n",
    "    'Normandie': ['14', '27', '50', '61', '76'],\n",
    "    'Nouvelle-Aquitaine': ['16', '17', '19', '23', '24', '33', '40', '47', '64', '79', '86', '87'],\n",
    "    'Occitanie': ['09', '11', '12', '30', '31', '32', '34', '46', '48', '65', '66', '81', '82'],\n",
    "    'Pays de la Loire': ['44', '49', '53', '72', '85'],\n",
    "    'Provence-Alpes-Côte d\\'Azur': ['04', '05', '06', '13', '83', '84'],\n",
    "}\n",
    "\n",
    "# Charger le fichier CSV généré précédemment\n",
    "fichier_csv = \"base_clients.csv\"\n",
    "\n",
    "# Initialisation des variables pour compter les clients par région\n",
    "clients_par_region = {}\n",
    "\n",
    "# Ouvrir et lire le fichier CSV ligne par ligne\n",
    "f_in = open( fichier_csv, \"r\", encoding=\"utf-8\" )\n",
    "\n",
    "# Ignore l'en-tête du fichier CSV\n",
    "f_in.readline()\n",
    "\n",
    "for ligne in f_in:\n",
    "    ligne = ligne.strip()                     # Supprimer les espaces et retours à la ligne inutiles\n",
    "    colonnes = ligne.split(';')               # Diviser la ligne en colonnes\n",
    "    departement = colonnes[2]                 # Récupérer le département\n",
    "    \n",
    "    # Vérifier dans quelle région se trouve ce département\n",
    "    for region in REGIONS :\n",
    "        if departement in REGIONS[region] :\n",
    "            if region in clients_par_region :\n",
    "                clients_par_region[region] += 1\n",
    "            else :\n",
    "                clients_par_region[region] = 1\n",
    "            break\n",
    "\n",
    "# Calculer le total des clients\n",
    "total_clients = sum( clients_par_region.values() )\n",
    "\n",
    "# Calculer les pourcentages par région\n",
    "pourcentages = {}\n",
    "for region in clients_par_region:\n",
    "    pourcentages[region] = ( clients_par_region[region] / total_clients ) * 100\n",
    "\n",
    "# Ouvrir le fichier pour sauvegarder les résultats dans un tableau\n",
    "f_out = open( \"rapport_stat_repart_geo.txt\", \"w\", encoding=\"utf-8\" )\n",
    "\n",
    "# Écrire un titre et les en-têtes du tableau\n",
    "f_out.write(\"____________________________________________________________________\\n\")\n",
    "f_out.write(\"                                                                    \\n\")\n",
    "f_out.write(\"----               REPARTITION CLIENTS PAR REGIONS              ----\\n\")\n",
    "f_out.write(\"____________________________________________________________________\\n\\n\")\n",
    "\n",
    "# Ajouter le tableau des résultats\n",
    "f_out.write(f\"{'Région':<30} {'Nombre de clients':<20} {'Pourcentage (%)':<20}\\n\")\n",
    "f_out.write(\"--------------------------------------------------------------------\\n\")\n",
    "\n",
    "# Ajouter les données sous forme de tableau\n",
    "for region in sorted(clients_par_region):\n",
    "    nombre_clients = clients_par_region[region]\n",
    "    pourcentage = pourcentages[region]\n",
    "    f_out.write(f\"{region:<30} {nombre_clients:<20} {round(pourcentage, 2):<20}\\n\")\n",
    "\n",
    "# Ajouter la ligne \"Total\"\n",
    "f_out.write(\"--------------------------------------------------------------------\\n\")\n",
    "f_out.write(f\"{'Total':<30} {total_clients:<20} {round(sum(pourcentages.values()), 2):<20}\\n\")\n",
    "f_out.write(\"--------------------------------------------------------------------\\n\\n\")\n",
    "\n",
    "# Rédiger l'analyse statistique\n",
    "f_out.write(\"____________________________________________________________________\\n\")\n",
    "f_out.write(\"                                                                    \\n\")\n",
    "f_out.write(\"----                   ANALYSE STATISTIQUES                     ----\\n\")\n",
    "f_out.write(\"____________________________________________________________________\\n\")\n",
    "f_out.write(f\"\\nTotal des clients : {total_clients}\\n\")\n",
    "f_out.write(f\"Nombre moyen de clients par région : {round(statistics.mean(list(clients_par_region.values())), 2)}\\n\")\n",
    "f_out.write(f\"Écart-type du nombre de clients par région : {round(statistics.stdev(list(clients_par_region.values())), 2)}\\n\")\n",
    "\n",
    "# Trouver la région avec le plus grand et le plus petit nombre de clients\n",
    "region_max_clients = max( clients_par_region, key=clients_par_region.get )\n",
    "region_min_clients = min( clients_par_region, key=clients_par_region.get )\n",
    "clients_max = clients_par_region[region_max_clients]\n",
    "clients_min = clients_par_region[region_min_clients]\n",
    "\n",
    "f_out.write(f\"Région avec le plus grand nombre de clients : {region_max_clients} ({clients_max} clients)\\n\")\n",
    "f_out.write(f\"Région avec le plus petit nombre de clients : {region_min_clients} ({clients_min} clients)\\n\")\n",
    "f_out.write(f\"Écart entre la région avec le plus grand nombre de clients et celle avec le moins de clients : {clients_max - clients_min} clients\\n\")\n",
    "\n",
    "# Sauvegarder le fichier\n",
    "f_out.close()\n",
    "\n",
    "# Vérifie si le fichier \"rapport_stat_repart_geo.txt\" a été créé avec succès\n",
    "if os.path.exists(\"rapport_stat_repart_geo.txt\") :\n",
    "    print(\"\\nLe rapport a été créé sous le nom de 'rapport_stat_repart_geo.txt'.\")\n",
    "else :\n",
    "    print(\"Une erreur est survenue lors de la création du fichier.\")"
   ]
  }
 ],
 "metadata": {
  "kernelspec": {
   "display_name": "Python 3",
   "language": "python",
   "name": "python3"
  },
  "language_info": {
   "codemirror_mode": {
    "name": "ipython",
    "version": 3
   },
   "file_extension": ".py",
   "mimetype": "text/x-python",
   "name": "python",
   "nbconvert_exporter": "python",
   "pygments_lexer": "ipython3",
   "version": "3.11.9"
  }
 },
 "nbformat": 4,
 "nbformat_minor": 5
}
